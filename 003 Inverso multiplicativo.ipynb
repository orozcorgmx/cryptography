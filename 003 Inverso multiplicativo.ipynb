{
 "cells": [
  {
   "cell_type": "markdown",
   "metadata": {},
   "source": [
    "# Inverso multiplicativo (aritmética modular)\n",
    "##### @orozcorgmx\n",
    "\n",
    "\n",
    "El inverso multiplicativo modular es un entero 'x' tal que\n",
    ">   ax ≡ 1 (mod m)\n",
    "\n",
    "El valor de 'x' debe estar en {0,1,2,...,m-1}, en el anillo de enteros del módulo 'm'.\n",
    "  \n",
    "A continuación procederemos al código en Python 3 para obtener el inverso multiplicativo."
   ]
  },
  {
   "cell_type": "code",
   "execution_count": 1,
   "metadata": {},
   "outputs": [],
   "source": [
    "#Recibimos dos variables a y m\n",
    "a=13;\n",
    "m=27;"
   ]
  },
  {
   "cell_type": "code",
   "execution_count": 2,
   "metadata": {},
   "outputs": [
    {
     "name": "stdout",
     "output_type": "stream",
     "text": [
      "El inverso multiplicativo es: 25\n",
      "Así que: 13 ( 25 ) ≡ 1 (mod 27 )\n"
     ]
    }
   ],
   "source": [
    "#Ahora procederemos al algoritmo de euclides extendido que nos apoyará para\n",
    "#obtener el inverso multiplicativo\n",
    "\n",
    "old_r=a; old_s=1; old_t=0    #Inicializamos con a, s=1, t=0\n",
    "r=m; s=0; t=1               #Seguimos con b, s=0, t=1\n",
    "\n",
    "while r!=0:                 #Mientras el residuo sea cero\n",
    "    q=old_r//r               # obtenemos el cociente (usando una division entera)\n",
    "    old_r,r=r,old_r-q*r      #(old_r-q*r) nos da el residuo de old_r/r \n",
    "    old_s,s=s,old_s-q*s      \n",
    "    old_t,t=t,old_t-q*t\n",
    "    #print ('r:',old_r,'  q:',q,'  s:',old_s,'  t:',old_t)  #descomentar para ver paso a paso\n",
    "\n",
    "if m==1:     #Si por alguna razón el módulo es 1, entonces el inverso es cero\n",
    "    old_s=0\n",
    "\n",
    "if old_s<0:    #Con este manejamos los negativos\n",
    "    old_s+=m\n",
    "    \n",
    "if old_r!=1:    #Si el MCD es diferente de uno\n",
    "    print('No existe el inverso multiplicativo, su MCD es diferente de 1. es',old_r)\n",
    "else:\n",
    "    print('El inverso multiplicativo es:',old_s)\n",
    "    print('Así que:',a,'(',old_s,') ≡',old_r,'(mod',m,')')\n"
   ]
  }
 ],
 "metadata": {
  "kernelspec": {
   "display_name": "Python 3",
   "language": "python",
   "name": "python3"
  },
  "language_info": {
   "codemirror_mode": {
    "name": "ipython",
    "version": 3
   },
   "file_extension": ".py",
   "mimetype": "text/x-python",
   "name": "python",
   "nbconvert_exporter": "python",
   "pygments_lexer": "ipython3",
   "version": "3.6.3"
  }
 },
 "nbformat": 4,
 "nbformat_minor": 2
}
