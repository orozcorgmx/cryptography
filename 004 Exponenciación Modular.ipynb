{
 "cells": [
  {
   "cell_type": "markdown",
   "metadata": {},
   "source": [
    "# Exponenciación Modular\n",
    "##### @orozcorgmx\n",
    "\n",
    "\n",
    "Una ***exponenciación modular*** calcula el residuo cuando un número entero positivo *m (la base)* se eleva a la e-ésima potencia *(el exponente), m^e*, y es dividido por el entero positivo *n, llamado módulo*. En notación matemática, dada la ***base m***, el ***exponente e***, y el ***módulo n***, la ***exponenciación modular c*** se escribe: \n",
    "> c ≡ m^e (mod n)\n",
    "\n",
    "A continuación procederemos al código en Pyhton 3 de este algoritmo vía ***método binario***.\n"
   ]
  },
  {
   "cell_type": "code",
   "execution_count": 6,
   "metadata": {},
   "outputs": [
    {
     "name": "stdout",
     "output_type": "stream",
     "text": [
      "La exponenciación modular da como resultado:\n",
      " 4\n",
      "Así que tenemos la expresión:\n",
      " 4 ≡ 2 ^ 250 mod 5\n"
     ]
    }
   ],
   "source": [
    "#Recibimos la base \"m\", el exponente \"e\" y el módulo \"n\"\n",
    "m=2\n",
    "e=250\n",
    "n=5\n",
    "#Convertimos a binario el exponente \"e\", tomamos cada\n",
    "#  elemento del número binario y lo añadimos a una lista\n",
    "#  de números enteros para facilitarnos el desarrollo\n",
    "#  del algortimo.\n",
    "#  Añadimos el \"[2:]\" para que no nos imprima los primeros dos\n",
    "#  caracteres de la conversión a binario, ya que por defecto\n",
    "#  la función bin() añade el prefijo \"0b\" al principio del\n",
    "#  resultado y no es necesario en este ejercicio.\n",
    "e=[int(i) for i in bin(e)[2:]]\n",
    "\n",
    "#Si el primer elemento \"e(0)\" de izquierda a derecha es \"1\" \n",
    "#  entonces \"c=m\" si no \"c=1\"\n",
    "if e[0]==1:\n",
    "    c=m\n",
    "else:\n",
    "    c=1\n",
    "\n",
    "#Este \"for\" tiene un contador desde el segundo elemento\n",
    "#  \"e(1)\" hasta el último elemento de izquierda a derecha\n",
    "for i in range(1,len(e)):\n",
    "    #Asigna c=c^2 mod n\n",
    "    c=(pow(c,2))%n\n",
    "    #Si e(i)=1 entonces c=c*m mod n\n",
    "    if e[i]==1:\n",
    "        c=(c*m)%n\n",
    "\n",
    "#Imprimimos el resultado añadiendo la conversión a entero\n",
    "#  \"int()\" debido a que usamos la funcion \"pow\" la cual\n",
    "#  devuelve un número del tipo flotante.\n",
    "print('La exponenciación modular da como resultado:\\n',int(c))\n",
    "print('Así que tenemos la expresión:\\n',int(c),'≡',m,'^',int(\"\".join([str(w) for w in e]),2),'mod',n)\n",
    "    "
   ]
  },
  {
   "cell_type": "code",
   "execution_count": null,
   "metadata": {},
   "outputs": [],
   "source": []
  }
 ],
 "metadata": {
  "kernelspec": {
   "display_name": "Python 3",
   "language": "python",
   "name": "python3"
  },
  "language_info": {
   "codemirror_mode": {
    "name": "ipython",
    "version": 3
   },
   "file_extension": ".py",
   "mimetype": "text/x-python",
   "name": "python",
   "nbconvert_exporter": "python",
   "pygments_lexer": "ipython3",
   "version": "3.6.3"
  }
 },
 "nbformat": 4,
 "nbformat_minor": 2
}
