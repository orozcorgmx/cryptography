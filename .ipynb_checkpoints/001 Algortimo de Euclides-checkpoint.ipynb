{
 "cells": [
  {
   "cell_type": "markdown",
   "metadata": {},
   "source": [
    "# Algortimo de Euclides\n",
    "##### @orozcorgmx\n",
    "\n",
    "\n",
    "El algoritmo de Euclides es un método antiguo y eficiente para calcular el ***máximo común divisor (MCD)***. Fue originalmente descrito por Euclides en su obra Elementos.  \n",
    "  \n",
    "A continuación procederemos al código en Python 3 de este algoritmo."
   ]
  },
  {
   "cell_type": "code",
   "execution_count": 1,
   "metadata": {},
   "outputs": [
    {
     "name": "stdout",
     "output_type": "stream",
     "text": [
      "La condición NO se cumple se intercambiaron los números,\n",
      " a = 1180  b = 482\n"
     ]
    }
   ],
   "source": [
    "#Recibimos dos variables A y B\n",
    "a=482;\n",
    "b=1180;\n",
    "\n",
    "#Revisamos que siempre se cumpla la condición a>b, si no se cumple cambiamos de posición los números\n",
    "if a>b:\n",
    "    print('La condición se cumple, a =',a,' b =',b)\n",
    "else:\n",
    "    aux01=a\n",
    "    a=b\n",
    "    b=aux01\n",
    "    print('La condición NO se cumple se intercambiaron los números,\\n a =',a,' b =',b)"
   ]
  },
  {
   "cell_type": "code",
   "execution_count": 2,
   "metadata": {},
   "outputs": [
    {
     "name": "stdout",
     "output_type": "stream",
     "text": [
      "El máximo común divisor es:  2\n"
     ]
    }
   ],
   "source": [
    "#Ahora usaremos las ventajas de la recursividad para escribir el algoritmo\n",
    "\n",
    "def mcd(an,bn):     #Introducimos a y b\n",
    "    if an%bn==0:     #Si el residuo es cero\n",
    "        return bn     # Regresamos el número b que es el MCD\n",
    "    else:              # si el residuo no es cero, llamamos de nuevo a esta misma funcion pero\n",
    "        return mcd(bn,an%bn) #el valor de a, será ahora el valor de b y el valor de b será el residuo\n",
    "\n",
    "#Ahora llamamos a la función e imprimimos\n",
    "\n",
    "print('El máximo común divisor es: ',mcd(a,b))"
   ]
  }
 ],
 "metadata": {
  "kernelspec": {
   "display_name": "Python 3",
   "language": "python",
   "name": "python3"
  },
  "language_info": {
   "codemirror_mode": {
    "name": "ipython",
    "version": 3
   },
   "file_extension": ".py",
   "mimetype": "text/x-python",
   "name": "python",
   "nbconvert_exporter": "python",
   "pygments_lexer": "ipython3",
   "version": "3.6.3"
  }
 },
 "nbformat": 4,
 "nbformat_minor": 2
}
