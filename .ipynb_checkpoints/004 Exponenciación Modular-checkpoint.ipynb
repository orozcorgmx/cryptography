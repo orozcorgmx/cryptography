{
 "cells": [
  {
   "cell_type": "markdown",
   "metadata": {},
   "source": [
    "# Exponenciación Modular\n",
    "##### @orozcorgmx\n",
    "\n",
    "\n",
    "Una **exponenciación modular** calcula el residuo cuando un número entero positivo **m** (la base) se eleva a la e-ésima potencia (el exponente), m^**e**, y es dividido por el entero positivo **n**, llamado módulo. En notación matemática, dada la base **m**, el exponente **e**, y el módulo **n**, la exponenciación modular **c** se escribe: \n",
    "> c ≡ m^e (mod n)\n",
    "\n",
    "A continuación procederemos al código en Pyhton 3 de este algoritmo vía **método binario**\n"
   ]
  },
  {
   "cell_type": "code",
   "execution_count": 65,
   "metadata": {},
   "outputs": [
    {
     "name": "stdout",
     "output_type": "stream",
     "text": [
      "2\n"
     ]
    }
   ],
   "source": [
    "#Recibimos la base \"m\", el exponente \"e\" y el módulo \"n\"\n",
    "m=2\n",
    "e=250\n",
    "n=5\n",
    "\n",
    "#Convertimos a binario el exponente \"e\" y luego a string para facilitarnos el desarrollo del algortimo\n",
    "#Añadimos el [2:] para que no nos imprima los primeros dos caracteres de la conversión a binario,\n",
    "#ya que por defecto la función bin() añade el prefijo \"0b\" al principio del resultado\n",
    "#y no lo necesitamos.\n",
    "#b=str(bin(e)[2:])\n",
    "#ln=len(b)     #Obtenemos la longitud de \"b\"\n",
    "\n",
    "b=[int(i) for i in bin(e)[2:]]\n",
    "\n",
    "if b[0]==1:\n",
    "    c=m\n",
    "else:\n",
    "    c=1\n",
    "\n",
    "#Este \"for\" tiene un contador desde el segundo elemento hasta el último\n",
    "#de Izquierda a derecha\n",
    "for i in range(1,len(b)):  \n",
    "    c==(pow(c,2))%n\n",
    "    if b[i]==1:\n",
    "        c==c%n\n",
    "print(c)\n",
    "    "
   ]
  }
 ],
 "metadata": {
  "kernelspec": {
   "display_name": "Python 3",
   "language": "python",
   "name": "python3"
  },
  "language_info": {
   "codemirror_mode": {
    "name": "ipython",
    "version": 3
   },
   "file_extension": ".py",
   "mimetype": "text/x-python",
   "name": "python",
   "nbconvert_exporter": "python",
   "pygments_lexer": "ipython3",
   "version": "3.6.3"
  }
 },
 "nbformat": 4,
 "nbformat_minor": 2
}
