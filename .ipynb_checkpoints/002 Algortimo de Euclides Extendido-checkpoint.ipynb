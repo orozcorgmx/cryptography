{
 "cells": [
  {
   "cell_type": "markdown",
   "metadata": {},
   "source": [
    "# Algortimo de Euclides Extendido\n",
    "##### @orozcorgmx\n",
    "\n",
    "\n",
    "El algoritmo de Euclides extendido es una ligera modificación que permite además expresar al máximo común divisor como una ***combinación lineal***. Este algoritmo tiene aplicaciones en diversas áreas como álgebra, teoría de números y ciencias de la computación, entre otras. Para una mejor comprensión del algoritmo se sugiere [este video](https://www.youtube.com/watch?v=JGyFkl5_KHM).\n",
    "  \n",
    "A continuación procederemos al código en Python 3 de este algoritmo."
   ]
  },
  {
   "cell_type": "code",
   "execution_count": 1,
   "metadata": {},
   "outputs": [
    {
     "name": "stdout",
     "output_type": "stream",
     "text": [
      "La condición se cumple, a = 60  b = 13\n"
     ]
    }
   ],
   "source": [
    "#Recibimos dos variables A y B\n",
    "a=60;\n",
    "b=13;\n",
    "\n",
    "#Revisamos que siempre se cumpla la condición a>b, si no se cumple cambiamos de posición los números\n",
    "if a>b:\n",
    "    print('La condición se cumple, a =',a,' b =',b)\n",
    "else:\n",
    "    b,a=a,b\n",
    "    print('La condición NO se cumple se intercambiaron los números,\\n a =',a,' b =',b)"
   ]
  },
  {
   "cell_type": "code",
   "execution_count": 2,
   "metadata": {},
   "outputs": [
    {
     "name": "stdout",
     "output_type": "stream",
     "text": [
      "r: 13   q: 4   x: 0   y: 1\n",
      "r: 8   q: 1   x: 1   y: -4\n",
      "r: 5   q: 1   x: -1   y: 5\n",
      "r: 3   q: 1   x: 2   y: -9\n",
      "r: 2   q: 1   x: -3   y: 14\n",
      "r: 1   q: 2   x: 5   y: -23\n",
      "Coeficientes de Bézout: 5 -23\n",
      "Máximo Común Divisor: 1\n",
      "Identidad de Bézout:  ax+by=MCD(a,b) =>  60 ( 5 )+ 13 ( -23 )= 1\n"
     ]
    }
   ],
   "source": [
    "#Ahora usaremos dobles asignaciones para simplificar el código\n",
    "\n",
    "old_r=a; old_x=1; old_y=0    #Inicializamos con a, x=1, y=0\n",
    "r=b; x=0; y=1               #Seguimos con b, x=0, y=1\n",
    "\n",
    "while r!=0:                 #Mientras el residuo sea cero\n",
    "    q=old_r//r               # obtenemos el cociente (usando una division entera)\n",
    "    old_r,r=r,old_r-q*r      #(old_r-q*r) nos da el residuo de old_r/r \n",
    "    old_x,x=x,old_x-q*x      \n",
    "    old_y,y=y,old_y-q*y\n",
    "    print ('r:',old_r,'  q:',q,'  x:',old_x,'  y:',old_y)  #descomentar para ver paso a paso\n",
    "    \n",
    "print('Coeficientes de Bézout:',old_x,old_y)\n",
    "print('Máximo Común Divisor:',old_r)\n",
    "print('Identidad de Bézout:  ax+by=MCD(a,b) => ',a,'(',old_x,')+',b,'(',old_y,')=',old_r)"
   ]
  }
 ],
 "metadata": {
  "kernelspec": {
   "display_name": "Python 3",
   "language": "python",
   "name": "python3"
  },
  "language_info": {
   "codemirror_mode": {
    "name": "ipython",
    "version": 3
   },
   "file_extension": ".py",
   "mimetype": "text/x-python",
   "name": "python",
   "nbconvert_exporter": "python",
   "pygments_lexer": "ipython3",
   "version": "3.6.3"
  }
 },
 "nbformat": 4,
 "nbformat_minor": 2
}
